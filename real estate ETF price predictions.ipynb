{
 "cells": [
  {
   "cell_type": "markdown",
   "metadata": {},
   "source": [
    "# Real Estate ETF XGBoost Price Predictions\n",
    "\n",
    "Using data from https://www.kaggle.com/datasets/stefanoleone992/mutual-funds-and-etfs?select=ETF+prices.csv\n",
    "\n",
    "Data from November 2021"
   ]
  },
  {
   "cell_type": "code",
   "execution_count": 1,
   "metadata": {},
   "outputs": [],
   "source": [
    "import pandas as pd\n",
    "import numpy as np\n",
    "import matplotlib.pyplot as plt\n",
    "import seaborn as sns\n",
    "import xgboost as xgb\n",
    "from sklearn.model_selection import train_test_split\n",
    "from sklearn.metrics import mean_squared_error\n"
   ]
  },
  {
   "cell_type": "markdown",
   "metadata": {},
   "source": [
    "Data loading, cleaning, and preparation"
   ]
  },
  {
   "cell_type": "code",
   "execution_count": 2,
   "metadata": {},
   "outputs": [],
   "source": [
    "# Load data\n",
    "base_path = 'C:/Users/jacke/Documents/Data Projects/'\n",
    "\n",
    "filenames = [\"MutualFund prices - A-E.csv\", \"MutualFund prices - F-K.csv\", \"MutualFund prices - L-P.csv\", \"MutualFund prices - Q-Z.csv\", \"MutualFunds.csv\", \"ETF prices.csv\", \"ETFs.csv\"]\n",
    "\n",
    "desc_data = pd.read_csv(base_path + filenames[6])\n",
    "\n",
    "target_sector = ['Real Estate']\n",
    "target_symbols = desc_data[desc_data['fund_category'].isin(target_sector)]['fund_symbol'].unique()\n",
    "\n",
    "price_data = pd.read_csv(base_path + filenames[5])\n",
    "price_data['price_date'] = pd.to_datetime(price_data['price_date'])\n",
    "pivot_data = price_data.pivot(index='price_date', columns='fund_symbol', values='adj_close')\n",
    "\n",
    "# Drop data before 2018\n",
    "pivot_data = pivot_data[pivot_data.index >= '2018-01-01']\n",
    "\n",
    "# Drop rows and columns with all NaN values\n",
    "pivot_data.dropna(axis=1, how='any', inplace=True)\n",
    "\n",
    "target_symbols = [x for x in target_symbols if x in pivot_data.columns]\n",
    "\n",
    "# Train test split\n",
    "train_x, test_x = train_test_split(pivot_data, test_size=0.2, random_state=0)\n",
    "\n",
    "# Separate target and features\n",
    "train_y = train_x[target_symbols]\n",
    "test_y = test_x[target_symbols]\n",
    "\n",
    "train_x = train_x.drop(columns=target_symbols)\n",
    "test_x = test_x.drop(columns=target_symbols)\n",
    "\n",
    "# Prepare data for XGBoost\n",
    "dtrain = xgb.DMatrix(train_x, label=train_y)\n",
    "dtest = xgb.DMatrix(test_x, label=test_y)"
   ]
  },
  {
   "cell_type": "markdown",
   "metadata": {},
   "source": [
    "Initial Boosted tree model as a baseline"
   ]
  },
  {
   "cell_type": "code",
   "execution_count": 3,
   "metadata": {},
   "outputs": [],
   "source": [
    "# Define parameters for the XGBoost model\n",
    "params = {\n",
    "    'device': 'cuda',\n",
    "}\n",
    "\n",
    "num_boost_round = 100\n",
    "\n",
    "# Train the model\n",
    "bst = xgb.train(params, dtrain, num_boost_round)"
   ]
  },
  {
   "cell_type": "markdown",
   "metadata": {},
   "source": [
    "Train RMSE is significantly lower than Test RMSE, indicating overfitting"
   ]
  },
  {
   "cell_type": "code",
   "execution_count": 4,
   "metadata": {},
   "outputs": [
    {
     "name": "stdout",
     "output_type": "stream",
     "text": [
      "Train RMSE: 0.006372558891469219, Test RMSE: 0.3064820501898771\n"
     ]
    }
   ],
   "source": [
    "# Predict on the test set\n",
    "preds = bst.predict(dtest)\n",
    "\n",
    "# Evaluate the model\n",
    "train_rmse = np.sqrt(mean_squared_error(train_y, bst.predict(dtrain)))\n",
    "test_rmse = np.sqrt(mean_squared_error(test_y, preds))\n",
    "\n",
    "# Display the RMSE value\n",
    "print(f\"Train RMSE: {train_rmse}, Test RMSE: {test_rmse}\")"
   ]
  },
  {
   "cell_type": "markdown",
   "metadata": {},
   "source": [
    "Utilizing new parameters to minimize overfitting"
   ]
  },
  {
   "cell_type": "code",
   "execution_count": 14,
   "metadata": {},
   "outputs": [],
   "source": [
    "params = {\n",
    "    'device': 'cuda',\n",
    "    'subsample': 0.8,\n",
    "    'colsample_bytree': 0.8,\n",
    "    'eta': 0.2,\n",
    "    'max_depth': 5,\n",
    "}\n",
    "\n",
    "bst = xgb.train(params, dtrain, num_boost_round)"
   ]
  },
  {
   "cell_type": "code",
   "execution_count": 15,
   "metadata": {},
   "outputs": [
    {
     "name": "stdout",
     "output_type": "stream",
     "text": [
      "Train RMSE: 0.030515088199989257, Test RMSE: 0.2841305624385981\n"
     ]
    }
   ],
   "source": [
    "# Predict on the test set\n",
    "preds = bst.predict(dtest)\n",
    "\n",
    "# Evaluate the model\n",
    "train_rmse = np.sqrt(mean_squared_error(train_y, bst.predict(dtrain)))\n",
    "test_rmse = np.sqrt(mean_squared_error(test_y, preds))\n",
    "\n",
    "# Display the RMSE value\n",
    "print(f\"Train RMSE: {train_rmse}, Test RMSE: {test_rmse}\")"
   ]
  },
  {
   "cell_type": "markdown",
   "metadata": {},
   "source": [
    "A reduction in Trest RMSE is achieved.  Further improvements of the model should use cross-validation methods to further refine parameters in line with the above."
   ]
  }
 ],
 "metadata": {
  "kernelspec": {
   "display_name": "base",
   "language": "python",
   "name": "python3"
  },
  "language_info": {
   "codemirror_mode": {
    "name": "ipython",
    "version": 3
   },
   "file_extension": ".py",
   "mimetype": "text/x-python",
   "name": "python",
   "nbconvert_exporter": "python",
   "pygments_lexer": "ipython3",
   "version": "3.9.7"
  },
  "orig_nbformat": 4
 },
 "nbformat": 4,
 "nbformat_minor": 2
}
